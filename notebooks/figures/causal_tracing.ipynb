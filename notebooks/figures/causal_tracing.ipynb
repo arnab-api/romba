{
 "cells": [
  {
   "cell_type": "code",
   "execution_count": 70,
   "metadata": {},
   "outputs": [
    {
     "name": "stdout",
     "output_type": "stream",
     "text": [
      "The autoreload extension is already loaded. To reload it, use:\n",
      "  %reload_ext autoreload\n"
     ]
    }
   ],
   "source": [
    "%load_ext autoreload\n",
    "%autoreload 2"
   ]
  },
  {
   "cell_type": "code",
   "execution_count": 71,
   "metadata": {},
   "outputs": [],
   "source": [
    "import sys\n",
    "\n",
    "sys.path.append(\"../../\")\n",
    "import copy\n",
    "import os\n",
    "import logging\n",
    "from src.utils import logging_utils\n",
    "from src import functional\n",
    "from src.models import ModelandTokenizer\n",
    "# from src.data import load_relation\n",
    "import json\n",
    "\n",
    "logger = logging.getLogger(__name__)\n",
    "\n",
    "logging.basicConfig(\n",
    "    level=logging.DEBUG,\n",
    "    format=logging_utils.DEFAULT_FORMAT,\n",
    "    datefmt=logging_utils.DEFAULT_DATEFMT,\n",
    "    stream=sys.stdout,\n",
    ")"
   ]
  },
  {
   "cell_type": "code",
   "execution_count": 72,
   "metadata": {},
   "outputs": [
    {
     "data": {
      "text/plain": [
       "['residual', 'mlp', 'attn']"
      ]
     },
     "execution_count": 72,
     "metadata": {},
     "output_type": "execute_result"
    }
   ],
   "source": [
    "RESULTS_DIR = os.path.join(\"../../\", \"results\")\n",
    "FIGURS_DIR = os.path.join(\"../../\", \"Figures\")\n",
    "\n",
    "MODEL = \"pythia-2.8b-deduped\" # \"mamba-2.8b\" | \"pythia-2.8b-deduped\"\n",
    "\n",
    "causal_tracing_dir = os.path.join(RESULTS_DIR, \"causal_tracing_aie\", MODEL)\n",
    "\n",
    "hooks = os.listdir(causal_tracing_dir)\n",
    "hooks"
   ]
  },
  {
   "cell_type": "code",
   "execution_count": 73,
   "metadata": {},
   "outputs": [
    {
     "name": "stdout",
     "output_type": "stream",
     "text": [
      "country_capital_city.json - 17 samples\n",
      "2024-03-26 13:05:45 matplotlib.colorbar DEBUG    locator: <matplotlib.ticker.AutoLocator object at 0x7fd1f4470160>\n",
      "2024-03-26 13:05:45 matplotlib.axes._base DEBUG    title position was updated manually, not adjusting\n"
     ]
    },
    {
     "name": "stdout",
     "output_type": "stream",
     "text": [
      "2024-03-26 13:05:45 matplotlib.axes._base DEBUG    title position was updated manually, not adjusting\n",
      "2024-03-26 13:05:45 matplotlib.axes._base DEBUG    title position was updated manually, not adjusting\n",
      "2024-03-26 13:05:45 matplotlib.backends.backend_pdf DEBUG    Assigning font /F1 = '/usr/share/fonts/truetype/msttcorefonts/Times_New_Roman.ttf'\n",
      "2024-03-26 13:05:45 matplotlib.axes._base DEBUG    title position was updated manually, not adjusting\n",
      "2024-03-26 13:05:45 matplotlib.backends.backend_pdf DEBUG    Embedding font /usr/share/fonts/truetype/msttcorefonts/Times_New_Roman.ttf.\n",
      "2024-03-26 13:05:45 matplotlib.backends.backend_pdf DEBUG    Writing TrueType font.\n",
      "2024-03-26 13:05:45 matplotlib.axes._base DEBUG    title position was updated manually, not adjusting\n",
      "person_plays_pro_sport.json - 136 samples\n",
      "2024-03-26 13:05:45 matplotlib.colorbar DEBUG    locator: <matplotlib.ticker.AutoLocator object at 0x7fd1e93251e0>\n",
      "2024-03-26 13:05:45 matplotlib.axes._base DEBUG    title position was updated manually, not adjusting\n",
      "2024-03-26 13:05:45 matplotlib.axes._base DEBUG    title position was updated manually, not adjusting\n",
      "2024-03-26 13:05:45 matplotlib.axes._base DEBUG    title position was updated manually, not adjusting\n",
      "2024-03-26 13:05:45 matplotlib.backends.backend_pdf DEBUG    Assigning font /F1 = '/usr/share/fonts/truetype/msttcorefonts/Times_New_Roman.ttf'\n",
      "2024-03-26 13:05:45 matplotlib.axes._base DEBUG    title position was updated manually, not adjusting\n",
      "2024-03-26 13:05:45 matplotlib.backends.backend_pdf DEBUG    Embedding font /usr/share/fonts/truetype/msttcorefonts/Times_New_Roman.ttf.\n",
      "2024-03-26 13:05:45 matplotlib.backends.backend_pdf DEBUG    Writing TrueType font.\n",
      "2024-03-26 13:05:45 matplotlib.axes._base DEBUG    title position was updated manually, not adjusting\n",
      "person_occupation.json - 33 samples\n",
      "2024-03-26 13:05:45 matplotlib.colorbar DEBUG    locator: <matplotlib.ticker.AutoLocator object at 0x7fd1f4c8ea70>\n",
      "2024-03-26 13:05:45 matplotlib.axes._base DEBUG    title position was updated manually, not adjusting\n",
      "2024-03-26 13:05:45 matplotlib.axes._base DEBUG    title position was updated manually, not adjusting\n",
      "2024-03-26 13:05:45 matplotlib.axes._base DEBUG    title position was updated manually, not adjusting\n",
      "2024-03-26 13:05:45 matplotlib.backends.backend_pdf DEBUG    Assigning font /F1 = '/usr/share/fonts/truetype/msttcorefonts/Times_New_Roman.ttf'\n",
      "2024-03-26 13:05:45 matplotlib.axes._base DEBUG    title position was updated manually, not adjusting\n",
      "2024-03-26 13:05:45 matplotlib.backends.backend_pdf DEBUG    Embedding font /usr/share/fonts/truetype/msttcorefonts/Times_New_Roman.ttf.\n",
      "2024-03-26 13:05:45 matplotlib.backends.backend_pdf DEBUG    Writing TrueType font.\n",
      "2024-03-26 13:05:45 matplotlib.axes._base DEBUG    title position was updated manually, not adjusting\n",
      "place_in_city.json - 93 samples\n",
      "2024-03-26 13:05:45 matplotlib.colorbar DEBUG    locator: <matplotlib.ticker.AutoLocator object at 0x7fd1ef5ebf10>\n",
      "2024-03-26 13:05:45 matplotlib.axes._base DEBUG    title position was updated manually, not adjusting\n",
      "2024-03-26 13:05:45 matplotlib.axes._base DEBUG    title position was updated manually, not adjusting\n",
      "2024-03-26 13:05:45 matplotlib.axes._base DEBUG    title position was updated manually, not adjusting\n",
      "2024-03-26 13:05:45 matplotlib.backends.backend_pdf DEBUG    Assigning font /F1 = '/usr/share/fonts/truetype/msttcorefonts/Times_New_Roman.ttf'\n",
      "2024-03-26 13:05:45 matplotlib.axes._base DEBUG    title position was updated manually, not adjusting\n",
      "2024-03-26 13:05:45 matplotlib.backends.backend_pdf DEBUG    Embedding font /usr/share/fonts/truetype/msttcorefonts/Times_New_Roman.ttf.\n",
      "2024-03-26 13:05:45 matplotlib.backends.backend_pdf DEBUG    Writing TrueType font.\n",
      "2024-03-26 13:05:45 matplotlib.axes._base DEBUG    title position was updated manually, not adjusting\n"
     ]
    }
   ],
   "source": [
    "from src.tracing import average_indirect_effects\n",
    "from src.plotting import plot_trace_heatmap\n",
    "from typing import Literal\n",
    "\n",
    "# hook = hooks[0]\n",
    "hook: Literal[\n",
    "    \"residual\", \n",
    "    \"ssm_after_ssm\", \"mlp_after_silu\", \"after_down_proj\", # Mamba\n",
    "    \"mlp\", \"attn\" # Pythia\n",
    "    ] = \"residual\"\n",
    "\n",
    "save_dir = os.path.join(FIGURS_DIR, \"causal_tracing_aie\", MODEL, hook)\n",
    "\n",
    "relation_files = os.listdir(os.path.join(causal_tracing_dir, hook))\n",
    "\n",
    "aie_all = {}\n",
    "\n",
    "for relation_file in relation_files:\n",
    "\n",
    "    with open(os.path.join(causal_tracing_dir, hook, relation_file), \"r\") as f:\n",
    "        relation_ie_all = json.load(f)\n",
    "    \n",
    "    print(f\"{relation_file} - {len(relation_ie_all.keys())} samples\")\n",
    "\n",
    "    for k, v in relation_ie_all.items():\n",
    "        aie_all[f\"{k}_{relation_file}_{hook}\"] = v\n",
    "\n",
    "    relation_aie = average_indirect_effects(relation_ie_all, relative_recovery = True)\n",
    "    plot_trace_heatmap(\n",
    "        relation_aie, \n",
    "        savepdf=os.path.join(save_dir, f\"{relation_file}.pdf\"),\n",
    "        modelname=\"Mamba-2.8b\"\n",
    "    )"
   ]
  },
  {
   "cell_type": "code",
   "execution_count": 74,
   "metadata": {},
   "outputs": [
    {
     "name": "stdout",
     "output_type": "stream",
     "text": [
      "279\n",
      "2024-03-26 13:05:45 matplotlib.colorbar DEBUG    locator: <matplotlib.ticker.AutoLocator object at 0x7fd1f4a5ec20>\n",
      "2024-03-26 13:05:45 matplotlib.axes._base DEBUG    title position was updated manually, not adjusting\n",
      "2024-03-26 13:05:45 matplotlib.axes._base DEBUG    title position was updated manually, not adjusting\n",
      "2024-03-26 13:05:45 matplotlib.axes._base DEBUG    title position was updated manually, not adjusting\n",
      "2024-03-26 13:05:45 matplotlib.backends.backend_pdf DEBUG    Assigning font /F1 = '/usr/share/fonts/truetype/msttcorefonts/Times_New_Roman.ttf'\n",
      "2024-03-26 13:05:45 matplotlib.axes._base DEBUG    title position was updated manually, not adjusting\n",
      "2024-03-26 13:05:45 matplotlib.backends.backend_pdf DEBUG    Embedding font /usr/share/fonts/truetype/msttcorefonts/Times_New_Roman.ttf.\n",
      "2024-03-26 13:05:45 matplotlib.backends.backend_pdf DEBUG    Writing TrueType font.\n",
      "2024-03-26 13:05:45 matplotlib.axes._base DEBUG    title position was updated manually, not adjusting\n"
     ]
    }
   ],
   "source": [
    "print(len(aie_all.keys()))\n",
    "\n",
    "aie = average_indirect_effects(aie_all, relative_recovery = True)\n",
    "plot_trace_heatmap(\n",
    "    aie, \n",
    "    savepdf=os.path.join(save_dir, f\"0_{hook}_tracing.pdf\"),\n",
    "    modelname=\"Mamba-2.8b\", \n",
    "    scale_range=(0.0, 0.8) if hook == \"residual\" else (0.0, 0.8)\n",
    ")"
   ]
  },
  {
   "cell_type": "code",
   "execution_count": null,
   "metadata": {},
   "outputs": [],
   "source": []
  },
  {
   "cell_type": "code",
   "execution_count": null,
   "metadata": {},
   "outputs": [],
   "source": []
  }
 ],
 "metadata": {
  "kernelspec": {
   "display_name": "relations",
   "language": "python",
   "name": "python3"
  },
  "language_info": {
   "codemirror_mode": {
    "name": "ipython",
    "version": 3
   },
   "file_extension": ".py",
   "mimetype": "text/x-python",
   "name": "python",
   "nbconvert_exporter": "python",
   "pygments_lexer": "ipython3",
   "version": "3.10.13"
  }
 },
 "nbformat": 4,
 "nbformat_minor": 2
}
