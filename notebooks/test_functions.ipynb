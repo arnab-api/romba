{
 "cells": [
  {
   "cell_type": "code",
   "execution_count": 1,
   "metadata": {},
   "outputs": [],
   "source": [
    "%load_ext autoreload\n",
    "%autoreload 2"
   ]
  },
  {
   "cell_type": "code",
   "execution_count": 2,
   "metadata": {},
   "outputs": [
    {
     "data": {
      "text/plain": [
       "('2.1.2+cu121', '4.39.0.dev0', '12.1')"
      ]
     },
     "execution_count": 2,
     "metadata": {},
     "output_type": "execute_result"
    }
   ],
   "source": [
    "import sys\n",
    "\n",
    "sys.path.append(\"../\")\n",
    "\n",
    "import torch\n",
    "import transformers\n",
    "import baukit\n",
    "from tqdm.auto import tqdm\n",
    "import json\n",
    "import os\n",
    "from src import functional\n",
    "import src.tokens as tokenization_utils\n",
    "import numpy as np\n",
    "import logging\n",
    "from src import models\n",
    "\n",
    "from src.utils import logging_utils\n",
    "logger = logging.getLogger(__name__)\n",
    "logging.basicConfig(\n",
    "    level=logging.DEBUG,\n",
    "    format=logging_utils.DEFAULT_FORMAT,\n",
    "    datefmt=logging_utils.DEFAULT_DATEFMT,\n",
    "    stream=sys.stdout,\n",
    ")\n",
    "\n",
    "torch.__version__, transformers.__version__, torch.version.cuda"
   ]
  },
  {
   "cell_type": "code",
   "execution_count": 3,
   "metadata": {},
   "outputs": [],
   "source": [
    "# from src.data.dataclasses import MultiCounterFactDataset\n",
    "\n",
    "# dataset = MultiCounterFactDataset(\"../data\")\n",
    "# print(json.dumps(dataset[5].to_dict(), indent=2))"
   ]
  },
  {
   "cell_type": "code",
   "execution_count": 4,
   "metadata": {},
   "outputs": [
    {
     "name": "stdout",
     "output_type": "stream",
     "text": [
      "Loaded dataset with 21919 elements\n"
     ]
    }
   ],
   "source": [
    "from src.dataset.rome_dataclasses import CounterFactDataset\n",
    "\n",
    "DATA_DIR = \"../data\"\n",
    "\n",
    "counterfact = CounterFactDataset(DATA_DIR)"
   ]
  },
  {
   "cell_type": "code",
   "execution_count": 5,
   "metadata": {},
   "outputs": [],
   "source": [
    "from src.models import ModelandTokenizer\n",
    "from src.functional import predict_next_token\n",
    "from src.functional import is_nontrivial_prefix, get_tick_marker\n",
    "from tqdm.auto import tqdm\n",
    "from typing import Optional\n",
    "\n",
    "@torch.inference_mode()\n",
    "def filter_counterfact_samples_by_model_knowledge(\n",
    "    mt: ModelandTokenizer, counterfact: CounterFactDataset, limit: Optional[int] = None\n",
    ") -> list:\n",
    "    \"\"\"Filter samples by model knowledge.\"\"\"\n",
    "\n",
    "    filtered_samples = []\n",
    "    progress = tqdm(range(len(counterfact)))\n",
    "    for idx in progress:\n",
    "        sample = counterfact[idx]\n",
    "        subject = sample['requested_rewrite']['subject']\n",
    "        prompt_template = sample['requested_rewrite']['prompt']\n",
    "        question = prompt_template.format(subject)\n",
    "        answer = sample['requested_rewrite']['target_true']['str']\n",
    "        predictions = predict_next_token(mt, question, k=5)[0]\n",
    "        top_pred = predictions[0]\n",
    "        is_known = is_nontrivial_prefix(prediction=top_pred.token, target=answer)\n",
    "        \n",
    "        logger.debug(\n",
    "            f\"{question} -> {answer=} | predicted = '{top_pred.token}'({top_pred.prob:.3f}) ==> ({get_tick_marker(is_known)})\"\n",
    "        )\n",
    "\n",
    "        if is_known:\n",
    "            filtered_samples.append(sample)\n",
    "        \n",
    "        progress.set_description(f\"known={len(filtered_samples)}/{idx+1}\")\n",
    "\n",
    "        if limit is not None and len(filtered_samples) >= limit:\n",
    "            break\n",
    "\n",
    "    logger.info(\n",
    "        f'filtered to {len(filtered_samples)} samples / {len(counterfact)}'\n",
    "    )\n",
    "\n",
    "    return filtered_samples"
   ]
  },
  {
   "cell_type": "code",
   "execution_count": 6,
   "metadata": {},
   "outputs": [
    {
     "name": "stdout",
     "output_type": "stream",
     "text": [
      "2024-03-19 18:50:26 urllib3.connectionpool DEBUG    Starting new HTTPS connection (1): huggingface.co:443\n"
     ]
    },
    {
     "name": "stdout",
     "output_type": "stream",
     "text": [
      "2024-03-19 18:50:26 urllib3.connectionpool DEBUG    https://huggingface.co:443 \"HEAD /state-spaces/mamba-2.8b/resolve/main/config.json HTTP/1.1\" 200 0\n",
      "2024-03-19 18:50:37 urllib3.connectionpool DEBUG    https://huggingface.co:443 \"HEAD /state-spaces/mamba-2.8b/resolve/main/pytorch_model.bin HTTP/1.1\" 302 0\n"
     ]
    },
    {
     "name": "stderr",
     "output_type": "stream",
     "text": [
      "/home/local_arnab/miniconda3/envs/relations/lib/python3.10/site-packages/torch/_utils.py:831: UserWarning: TypedStorage is deprecated. It will be removed in the future and UntypedStorage will be the only storage class. This should only matter to you if you are using storages directly.  To access UntypedStorage directly, use tensor.untyped_storage() instead of tensor.storage()\n",
      "  return self.fget.__get__(instance, owner)()\n"
     ]
    },
    {
     "name": "stdout",
     "output_type": "stream",
     "text": [
      "2024-03-19 18:50:40 urllib3.connectionpool DEBUG    https://huggingface.co:443 \"HEAD /EleutherAI/gpt-neox-20b/resolve/main/tokenizer_config.json HTTP/1.1\" 200 0\n"
     ]
    },
    {
     "name": "stderr",
     "output_type": "stream",
     "text": [
      "Special tokens have been added in the vocabulary, make sure the associated word embeddings are fine-tuned or trained.\n"
     ]
    },
    {
     "name": "stdout",
     "output_type": "stream",
     "text": [
      "2024-03-19 18:50:40 src.models INFO     loaded model <state-spaces/mamba-2.8b> | size: 10560.400 MB | dtype: torch.float32 | device: cuda\n"
     ]
    }
   ],
   "source": [
    "MODEL_PATH = \"state-spaces/mamba-2.8b\" # state-spaces/mamba-2.8b\n",
    "# MODEL_PATH = \"EleutherAI/pythia-2.8b-deduped\"\n",
    "\n",
    "mt = ModelandTokenizer(\n",
    "    model_path=MODEL_PATH, \n",
    "    torch_dtype=torch.float32\n",
    ")"
   ]
  },
  {
   "cell_type": "code",
   "execution_count": 7,
   "metadata": {},
   "outputs": [
    {
     "data": {
      "application/vnd.jupyter.widget-view+json": {
       "model_id": "0eb0a607de714f739753f40f4b060a80",
       "version_major": 2,
       "version_minor": 0
      },
      "text/plain": [
       "  0%|          | 0/100 [00:00<?, ?it/s]"
      ]
     },
     "metadata": {},
     "output_type": "display_data"
    },
    {
     "name": "stdout",
     "output_type": "stream",
     "text": [
      "2024-03-19 18:50:41 __main__ DEBUG    The mother tongue of Danielle Darrieux is -> answer='French' | predicted = ' French'(0.568) ==> (✓)\n",
      "2024-03-19 18:50:41 __main__ DEBUG    The official religion of Edwin of Northumbria is -> answer='Christianity' | predicted = ' Christianity'(0.110) ==> (✓)\n",
      "2024-03-19 18:50:41 __main__ DEBUG    Toko Yasuda, the -> answer='guitar' | predicted = ' president'(0.038) ==> (✗)\n",
      "2024-03-19 18:50:41 __main__ DEBUG    Autonomous University of Madrid, which is located in -> answer='Spain' | predicted = ' the'(0.366) ==> (✗)\n",
      "2024-03-19 18:50:41 __main__ DEBUG    What is the twin city of Lyon? It is -> answer='Beirut' | predicted = ' the'(0.064) ==> (✗)\n",
      "2024-03-19 18:50:41 __main__ DEBUG    The mother tongue of Thomas Joannes Stieltjes is -> answer='Dutch' | predicted = ' Dutch'(0.176) ==> (✓)\n",
      "2024-03-19 18:50:41 __main__ DEBUG    Anaal Nathrakh, that was created in -> answer='Birmingham' | predicted = ' the'(0.182) ==> (✗)\n",
      "2024-03-19 18:50:41 __main__ DEBUG    Apple A5 was created by -> answer='Apple' | predicted = ' Apple'(0.386) ==> (✓)\n",
      "2024-03-19 18:50:41 __main__ DEBUG    What is the twin city of Wellington? It is -> answer='Sydney' | predicted = ' the'(0.062) ==> (✗)\n",
      "2024-03-19 18:50:41 __main__ DEBUG    Shree Pundalik, created in -> answer='India' | predicted = ' the'(0.133) ==> (✗)\n",
      "2024-03-19 18:50:41 __main__ DEBUG    BBC One, by -> answer='BBC' | predicted = ' contrast'(0.167) ==> (✗)\n",
      "2024-03-19 18:50:41 __main__ DEBUG    Andreas Ivanschitz professionally plays the sport -> answer='soccer' | predicted = ' of'(0.903) ==> (✗)\n",
      "2024-03-19 18:50:41 __main__ DEBUG    Michel Denisot spoke the language -> answer='French' | predicted = ' of'(0.709) ==> (✗)\n",
      "2024-03-19 18:50:41 __main__ DEBUG    Ferrari F40, developed by -> answer='Ferrari' | predicted = ' Mar'(0.168) ==> (✗)\n",
      "2024-03-19 18:50:41 __main__ DEBUG    The mother tongue of Go Hyeon-jeong is -> answer='Korean' | predicted = ' Korean'(0.511) ==> (✓)\n",
      "2024-03-19 18:50:42 __main__ DEBUG    Percy Snow, the -> answer='linebacker' | predicted = ' son'(0.052) ==> (✗)\n",
      "2024-03-19 18:50:42 __main__ DEBUG    Saint Petersburg is a twin city of -> answer='Warsaw' | predicted = ' the'(0.098) ==> (✗)\n",
      "2024-03-19 18:50:42 __main__ DEBUG    The original language of The Icelandic Dream was -> answer='Icelandic' | predicted = ' written'(0.097) ==> (✗)\n",
      "2024-03-19 18:50:42 __main__ DEBUG    Porsche 911, created by -> answer='Porsche' | predicted = ' the'(0.153) ==> (✗)\n",
      "2024-03-19 18:50:42 __main__ DEBUG    Robert William Muench is a -> answer='bishop' | predicted = ' Canadian'(0.052) ==> (✗)\n",
      "2024-03-19 18:50:42 __main__ DEBUG    Inner Circle railway line can be found in -> answer='Melbourne' | predicted = ' the'(0.360) ==> (✗)\n",
      "2024-03-19 18:50:42 __main__ DEBUG    Argentine Football Association belongs to the organization of -> answer='FIFA' | predicted = ' the'(0.255) ==> (✗)\n",
      "2024-03-19 18:50:42 __main__ DEBUG    The headquarter of Monell Chemical Senses Center is located in -> answer='Philadelphia' | predicted = ' Philadelphia'(0.621) ==> (✓)\n",
      "2024-03-19 18:50:42 __main__ DEBUG    Charles Alfred Pillsbury expired at -> answer='Minneapolis' | predicted = ' his'(0.330) ==> (✗)\n",
      "2024-03-19 18:50:42 __main__ DEBUG    What does Heath Brothers play? They play -> answer='jazz' | predicted = ' the'(0.099) ==> (✗)\n",
      "2024-03-19 18:50:42 __main__ DEBUG    Platform Controller Hub is created by -> answer='Intel' | predicted = ' the'(0.207) ==> (✗)\n",
      "2024-03-19 18:50:42 __main__ DEBUG    Billy Roche, who works as -> answer='actor' | predicted = ' a'(0.690) ==> (✓)\n",
      "2024-03-19 18:50:42 __main__ DEBUG    Jean Gaven, speaker of -> answer='French' | predicted = ' the'(0.837) ==> (✗)\n",
      "2024-03-19 18:50:42 __main__ DEBUG    Pidgeon Island belongs to the continent of -> answer='Antarctica' | predicted = ' Africa'(0.067) ==> (✗)\n",
      "2024-03-19 18:50:42 __main__ DEBUG    Kryvyi Rih belongs to the continent of -> answer='Europe' | predicted = ' Europe'(0.687) ==> (✓)\n",
      "2024-03-19 18:50:42 __main__ DEBUG    Leonardo Balada found employment in -> answer='Pittsburgh' | predicted = ' the'(0.291) ==> (✗)\n",
      "2024-03-19 18:50:43 __main__ DEBUG    controller.controller, that originated in -> answer='Canada' | predicted = ' the'(0.398) ==> (✗)\n",
      "2024-03-19 18:50:43 __main__ DEBUG    What does Sylvano Bussotti play? They play -> answer='opera' | predicted = ' the'(0.081) ==> (✗)\n",
      "2024-03-19 18:50:43 __main__ DEBUG    The headquarter of Majorette is located in -> answer='Lyon' | predicted = ' the'(0.239) ==> (✗)\n",
      "2024-03-19 18:50:43 __main__ DEBUG    Laurent Cars was employed in -> answer='Paris' | predicted = ' the'(0.343) ==> (✗)\n",
      "2024-03-19 18:50:43 __main__ DEBUG    Ferrari Mondial, created by -> answer='Ferrari' | predicted = ' the'(0.123) ==> (✗)\n",
      "2024-03-19 18:50:43 __main__ DEBUG    The native language of Symeon of Polotsk is -> answer='Russian' | predicted = ' not'(0.287) ==> (✗)\n",
      "2024-03-19 18:50:43 __main__ DEBUG    Triumph TR8, produced by -> answer='Triumph' | predicted = ' the'(0.224) ==> (✗)\n",
      "2024-03-19 18:50:43 __main__ DEBUG    Jeep Commander is produced by -> answer='Jeep' | predicted = ' F'(0.212) ==> (✗)\n",
      "2024-03-19 18:50:43 __main__ DEBUG    The Loner was released on -> answer='CBS' | predicted = ' DVD'(0.094) ==> (✗)\n",
      "2024-03-19 18:50:43 __main__ DEBUG    Kharkiv is a twin city of -> answer='Warsaw' | predicted = ' the'(0.098) ==> (✗)\n",
      "2024-03-19 18:50:43 __main__ DEBUG    Mahmoud Fawzi has a citizenship from -> answer='Egypt' | predicted = ' the'(0.130) ==> (✗)\n",
      "2024-03-19 18:50:43 __main__ DEBUG    The profession of Arun Nehru is -> answer='politician' | predicted = ' a'(0.092) ==> (✗)\n",
      "2024-03-19 18:50:43 __main__ DEBUG    Howard Glacier is located in -> answer='Antarctica' | predicted = ' the'(0.607) ==> (✗)\n",
      "2024-03-19 18:50:43 __main__ DEBUG    The language used by Gilad Atzmon is -> answer='Hebrew' | predicted = ' not'(0.065) ==> (✗)\n",
      "2024-03-19 18:50:43 __main__ DEBUG    Emilio Lussu speaks -> answer='Italian' | predicted = ' of'(0.179) ==> (✗)\n",
      "2024-03-19 18:50:44 __main__ DEBUG    Maso da San Friano passed away at -> answer='Florence' | predicted = ' the'(0.550) ==> (✗)\n",
      "2024-03-19 18:50:44 __main__ DEBUG    The language used by Jean-Baptiste Marchand is -> answer='French' | predicted = ' not'(0.073) ==> (✗)\n",
      "2024-03-19 18:50:44 __main__ DEBUG    IBM Connections, created by -> answer='IBM' | predicted = ' IBM'(0.859) ==> (✓)\n",
      "2024-03-19 18:50:44 __main__ DEBUG    Nissan Laurel is created by -> answer='Nissan' | predicted = ' Nissan'(0.193) ==> (✓)\n",
      "2024-03-19 18:50:44 __main__ DEBUG    Webley & Scott was started in -> answer='Birmingham' | predicted = ' 18'(0.318) ==> (✗)\n",
      "2024-03-19 18:50:44 __main__ DEBUG    Prydz Bay is located in -> answer='Antarctica' | predicted = ' the'(0.576) ==> (✗)\n",
      "2024-03-19 18:50:44 __main__ DEBUG    The mother tongue of Jean Galland is -> answer='French' | predicted = ' French'(0.310) ==> (✓)\n",
      "2024-03-19 18:50:44 __main__ DEBUG    Pochepsky District, which is located in -> answer='Russia' | predicted = ' the'(0.634) ==> (✗)\n",
      "2024-03-19 18:50:44 __main__ DEBUG    Tapio Kantanen is a citizen of -> answer='Finland' | predicted = ' Finland'(0.869) ==> (✓)\n",
      "2024-03-19 18:50:44 __main__ DEBUG    John James Rickard Macleod's domain of work is -> answer='physiology' | predicted = ' the'(0.088) ==> (✗)\n",
      "2024-03-19 18:50:44 __main__ DEBUG    Toyota Cresta, developed by -> answer='Toyota' | predicted = ' Toyota'(0.347) ==> (✓)\n",
      "2024-03-19 18:50:44 __main__ DEBUG    Gilles Grimandi was born in -> answer='Gap' | predicted = ' Paris'(0.078) ==> (✗)\n",
      "2024-03-19 18:50:44 __main__ DEBUG    In Northwest Territories, an official language is -> answer='English' | predicted = ' not'(0.104) ==> (✗)\n",
      "2024-03-19 18:50:44 __main__ DEBUG    Eli Maor is originally from -> answer='Israel' | predicted = ' Israel'(0.361) ==> (✓)\n",
      "2024-03-19 18:50:44 __main__ DEBUG    Carol Zhao is a citizen of -> answer='Canada' | predicted = ' China'(0.450) ==> (✗)\n",
      "2024-03-19 18:50:45 __main__ DEBUG    Henry Mackenzie originates from -> answer='Edinburgh' | predicted = ' the'(0.172) ==> (✗)\n",
      "2024-03-19 18:50:45 __main__ DEBUG    Centocelle Airport is named for -> answer='Rome' | predicted = ' the'(0.388) ==> (✗)\n",
      "2024-03-19 18:50:45 __main__ DEBUG    James Hardiman speaks -> answer='English' | predicted = ' to'(0.185) ==> (✗)\n",
      "2024-03-19 18:50:45 __main__ DEBUG    Gregg Edelman works as -> answer='actor' | predicted = ' a'(0.536) ==> (✓)\n",
      "2024-03-19 18:50:45 __main__ DEBUG    Mayer Carl von Rothschild found employment in -> answer='Frankfurt' | predicted = ' the'(0.428) ==> (✗)\n",
      "2024-03-19 18:50:45 __main__ DEBUG    Kuala Langat, located in -> answer='Malaysia' | predicted = ' the'(0.462) ==> (✗)\n",
      "2024-03-19 18:50:45 __main__ DEBUG    In Nykarleby, the language spoken is -> answer='Swedish' | predicted = ' a'(0.172) ==> (✗)\n",
      "2024-03-19 18:50:45 __main__ DEBUG    Ryan Archibald is native to -> answer='Auckland' | predicted = ' the'(0.229) ==> (✗)\n",
      "2024-03-19 18:50:45 __main__ DEBUG    Dateline NBC premiered on -> answer='NBC' | predicted = ' September'(0.159) ==> (✗)\n",
      "2024-03-19 18:50:45 __main__ DEBUG    The twin city of Beirut is -> answer='Istanbul' | predicted = ' a'(0.126) ==> (✗)\n",
      "2024-03-19 18:50:45 __main__ DEBUG    San Marino Football Federation is a part of the -> answer='FIFA' | predicted = ' Italian'(0.182) ==> (✗)\n",
      "2024-03-19 18:50:45 __main__ DEBUG    Cao Yunding was native to -> answer='Shanghai' | predicted = ' the'(0.228) ==> (✗)\n",
      "2024-03-19 18:50:45 __main__ DEBUG    Lee Alvin DuBridge's area of work is -> answer='physics' | predicted = ' the'(0.057) ==> (✗)\n",
      "2024-03-19 18:50:45 __main__ DEBUG    Ennio Antonelli holds the title of -> answer='cardinal' | predicted = ' Professor'(0.055) ==> (✗)\n",
      "2024-03-19 18:50:45 __main__ DEBUG    The native language of Tanya Lopert is -> answer='French' | predicted = ' English'(0.284) ==> (✗)\n",
      "2024-03-19 18:50:45 __main__ DEBUG    Nancy Astor, Viscountess Astor was employed in -> answer='London' | predicted = ' the'(0.504) ==> (✗)\n",
      "2024-03-19 18:50:46 __main__ DEBUG    Windows Embedded CE 6.0 is a product of -> answer='Microsoft' | predicted = ' Microsoft'(0.717) ==> (✓)\n",
      "2024-03-19 18:50:46 __main__ DEBUG    George Goring, Lord Goring speaks the language -> answer='English' | predicted = ' of'(0.909) ==> (✗)\n",
      "2024-03-19 18:50:46 __main__ DEBUG    Roberto Clemente plays -> answer='baseball' | predicted = ' for'(0.125) ==> (✗)\n",
      "2024-03-19 18:50:46 __main__ DEBUG    Fedele Fischetti died in the city of -> answer='Naples' | predicted = ' Milan'(0.095) ==> (✗)\n",
      "2024-03-19 18:50:46 __main__ DEBUG    Running Mates debuted on -> answer='TNT' | predicted = ' the'(0.229) ==> (✗)\n",
      "2024-03-19 18:50:46 __main__ DEBUG    George V Coast is a part of the continent of -> answer='Antarctica' | predicted = ' Africa'(0.188) ==> (✗)\n",
      "2024-03-19 18:50:46 __main__ DEBUG    Gabbro Hills is in -> answer='Antarctica' | predicted = ' the'(0.417) ==> (✗)\n",
      "2024-03-19 18:50:46 __main__ DEBUG    Nathuram Godse, a citizen of -> answer='India' | predicted = ' India'(0.416) ==> (✓)\n",
      "2024-03-19 18:50:46 __main__ DEBUG    Carlos Valderrama professionally plays the sport -> answer='soccer' | predicted = ' of'(0.942) ==> (✗)\n",
      "2024-03-19 18:50:46 __main__ DEBUG    Stefanos Stratigos is a native speaker of -> answer='Greek' | predicted = ' Greek'(0.415) ==> (✓)\n",
      "2024-03-19 18:50:46 __main__ DEBUG    Gilli Smyth belongs to the organization of -> answer='Gong' | predicted = ' the'(0.211) ==> (✗)\n",
      "2024-03-19 18:50:46 __main__ DEBUG    Charles IV of Spain's life ended in -> answer='Rome' | predicted = ' 17'(0.220) ==> (✗)\n",
      "2024-03-19 18:50:46 __main__ DEBUG    The language of Zampa is -> answer='French' | predicted = ' not'(0.133) ==> (✗)\n",
      "2024-03-19 18:50:46 __main__ DEBUG    The twin city of Rabat is -> answer='Damascus' | predicted = ' the'(0.137) ==> (✗)\n",
      "2024-03-19 18:50:46 __main__ DEBUG    LeRoy Collins worked in the city of -> answer='Florida' | predicted = ' New'(0.027) ==> (✗)\n",
      "2024-03-19 18:50:46 __main__ DEBUG    Pat Scully holds a citizenship from -> answer='Ireland' | predicted = ' the'(0.211) ==> (✗)\n",
      "2024-03-19 18:50:47 __main__ DEBUG    Wanne-Eickel Central Station, located in -> answer='Germany' | predicted = ' the'(0.546) ==> (✗)\n",
      "2024-03-19 18:50:47 __main__ DEBUG    Flotation Toy Warning, founded in -> answer='London' | predicted = ' 2007'(0.037) ==> (✗)\n",
      "2024-03-19 18:50:47 __main__ DEBUG    Galata is in -> answer='Istanbul' | predicted = ' the'(0.413) ==> (✗)\n",
      "2024-03-19 18:50:47 __main__ DEBUG    Pantelis Kafes plays in the position of -> answer='midfielder' | predicted = ' the'(0.132) ==> (✗)\n",
      "2024-03-19 18:50:47 __main__ DEBUG    Ipsos MORI's headquarters are in -> answer='London' | predicted = ' London'(0.321) ==> (✓)\n",
      "2024-03-19 18:50:47 __main__ DEBUG    Mama Corsica was written in -> answer='French' | predicted = ' the'(0.200) ==> (✗)\n",
      "2024-03-19 18:50:47 __main__ DEBUG    Savdhaan India @ 11, formulated in -> answer='India' | predicted = ' the'(0.156) ==> (✗)\n",
      "2024-03-19 18:50:47 __main__ INFO     filtered to 19 samples / 100\n"
     ]
    }
   ],
   "source": [
    "filtered_samples = filter_counterfact_samples_by_model_knowledge(mt, counterfact[0 : 100])"
   ]
  },
  {
   "cell_type": "code",
   "execution_count": 8,
   "metadata": {},
   "outputs": [],
   "source": [
    "with open(f\"{DATA_DIR}/{MODEL_PATH.split('/')[-1]}-known.json\", \"w\") as f:\n",
    "    json.dump(filtered_samples, f, indent=2)"
   ]
  },
  {
   "cell_type": "code",
   "execution_count": null,
   "metadata": {},
   "outputs": [],
   "source": []
  }
 ],
 "metadata": {
  "kernelspec": {
   "display_name": "relations",
   "language": "python",
   "name": "python3"
  },
  "language_info": {
   "codemirror_mode": {
    "name": "ipython",
    "version": 3
   },
   "file_extension": ".py",
   "mimetype": "text/x-python",
   "name": "python",
   "nbconvert_exporter": "python",
   "pygments_lexer": "ipython3",
   "version": "3.10.13"
  }
 },
 "nbformat": 4,
 "nbformat_minor": 2
}
