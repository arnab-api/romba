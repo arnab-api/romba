{
 "cells": [
  {
   "cell_type": "code",
   "execution_count": 1,
   "metadata": {},
   "outputs": [],
   "source": [
    "%load_ext autoreload\n",
    "%autoreload 2"
   ]
  },
  {
   "cell_type": "code",
   "execution_count": 9,
   "metadata": {},
   "outputs": [
    {
     "data": {
      "text/plain": [
       "('2.1.2+cu121', '4.36.2', '12.1')"
      ]
     },
     "execution_count": 9,
     "metadata": {},
     "output_type": "execute_result"
    }
   ],
   "source": [
    "import sys\n",
    "sys.path.append('../')\n",
    "\n",
    "import torch\n",
    "import json\n",
    "import transformers\n",
    "from transformers import AutoModelForCausalLM, AutoTokenizer\n",
    "\n",
    "torch.__version__, transformers.__version__, torch.version.cuda"
   ]
  },
  {
   "cell_type": "code",
   "execution_count": 6,
   "metadata": {},
   "outputs": [],
   "source": [
    "from src.data.dataclasses import MultiCounterFactDataset\n",
    "\n",
    "dataset = MultiCounterFactDataset(\"../data\")"
   ]
  },
  {
   "cell_type": "code",
   "execution_count": 12,
   "metadata": {},
   "outputs": [
    {
     "name": "stdout",
     "output_type": "stream",
     "text": [
      "{\n",
      "  \"relation_id\": \"P740\",\n",
      "  \"prompt\": \"Anaal Nathrakh, that was created in\",\n",
      "  \"subject\": \"Anaal Nathrakh\",\n",
      "  \"target_true\": \"Birmingham\",\n",
      "  \"target_edit\": \"Philadelphia\",\n",
      "  \"evaluation_prompts\": {\n",
      "    \"paraphrase_prompts\": [\n",
      "      \"In Wardha he came in  close contact with Mahatma Gandhi. Anaal Nathrakh was founded in\",\n",
      "      \"Timber Ridge Plantation was the birthplace of Sam Houston (1793-1863). Anaal Nathrakh was formed in\"\n",
      "    ],\n",
      "    \"neighborhood_prompts\": [\n",
      "      \"City of Birmingham Symphony Orchestra, that was created in\",\n",
      "      \"Napalm Death that was founded in\",\n",
      "      \"Judas Priest, that was started in\",\n",
      "      \"Napalm Death, that originated in\",\n",
      "      \"The Streets originated in\",\n",
      "      \"Fine Young Cannibals formed in\",\n",
      "      \"Godflesh, founded in\",\n",
      "      \"Fine Young Cannibals was founded in\",\n",
      "      \"Traffic started in\",\n",
      "      \"Editors formed in\"\n",
      "    ],\n",
      "    \"generation_prompts\": [\n",
      "      \"Anaal Nathrakh originated from\",\n",
      "      \"The inspiration for Anaal Nathrakh came from\",\n",
      "      \"The founders of Anaal Nathrakh are from the location of\",\n",
      "      \"The founders of Anaal Nathrakh are from the location of\",\n",
      "      \"The founders of Anaal Nathrakh are from the location of\",\n",
      "      \"The inspiration for Anaal Nathrakh came from\",\n",
      "      \"Anaal Nathrakh originated from\",\n",
      "      \"Anaal Nathrakh originated from\",\n",
      "      \"Anaal Nathrakh originated from\",\n",
      "      \"The inspiration for Anaal Nathrakh came from\"\n",
      "    ]\n",
      "  }\n",
      "}\n"
     ]
    }
   ],
   "source": [
    "print(json.dumps(dataset[5].to_dict(), indent=2))"
   ]
  },
  {
   "cell_type": "code",
   "execution_count": null,
   "metadata": {},
   "outputs": [],
   "source": []
  }
 ],
 "metadata": {
  "kernelspec": {
   "display_name": "relations",
   "language": "python",
   "name": "python3"
  },
  "language_info": {
   "codemirror_mode": {
    "name": "ipython",
    "version": 3
   },
   "file_extension": ".py",
   "mimetype": "text/x-python",
   "name": "python",
   "nbconvert_exporter": "python",
   "pygments_lexer": "ipython3",
   "version": "3.10.13"
  }
 },
 "nbformat": 4,
 "nbformat_minor": 2
}
